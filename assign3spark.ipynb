{
 "cells": [
  {
   "cell_type": "code",
   "execution_count": 2,
   "metadata": {},
   "outputs": [
    {
     "name": "stderr",
     "output_type": "stream",
     "text": [
      "Warning: Ignoring non-Spark config property: master\n"
     ]
    },
    {
     "name": "stdout",
     "output_type": "stream",
     "text": [
      "22/11/15 14:45:08 WARN Utils: Your hostname, XunyiJiangdeMacBook-Air.local resolves to a loopback address: 127.0.0.1; using 10.12.7.110 instead (on interface en0)\n",
      "22/11/15 14:45:08 WARN Utils: Set SPARK_LOCAL_IP if you need to bind to another address\n"
     ]
    },
    {
     "name": "stderr",
     "output_type": "stream",
     "text": [
      "Setting default log level to \"WARN\".\n",
      "To adjust logging level use sc.setLogLevel(newLevel). For SparkR, use setLogLevel(newLevel).\n"
     ]
    },
    {
     "name": "stdout",
     "output_type": "stream",
     "text": [
      "22/11/15 14:45:09 WARN NativeCodeLoader: Unable to load native-hadoop library for your platform... using builtin-java classes where applicable\n"
     ]
    }
   ],
   "source": [
    "from pyspark.sql import functions as F\n",
    "from pyspark.sql import SparkSession\n",
    "import pandas as pd\n",
    "import numpy as np\n",
    "from pyspark.sql.functions import approx_count_distinct,collect_list\n",
    "from pyspark.sql.functions import collect_set,sum,avg,max,countDistinct,count\n",
    "from pyspark.sql.functions import first, last, kurtosis, min, mean, skewness \n",
    "from pyspark.sql.functions import stddev, stddev_samp, stddev_pop, sumDistinct\n",
    "from pyspark.sql.functions import variance,var_samp,  var_pop\n",
    "\n",
    "\n",
    "\n",
    "ss = SparkSession.builder \\\n",
    "    .appName(\"sta321\") \\\n",
    "    .config(\"master\", \"local[4]\") \\\n",
    "    .enableHiveSupport() \\\n",
    "    .getOrCreate()\n",
    "sc = ss.sparkContext\n",
    "ss.conf.set('spark.sql.repl.eagerEval.enabled', True)\n"
   ]
  },
  {
   "cell_type": "code",
   "execution_count": 3,
   "metadata": {},
   "outputs": [
    {
     "name": "stderr",
     "output_type": "stream",
     "text": [
      "                                                                                \r"
     ]
    }
   ],
   "source": [
    "zones = ss.read.csv('taxi_zones.csv',header=True)\n",
    "data = ss.read.csv('taxi-data.csv',header=True)\n"
   ]
  },
  {
   "cell_type": "code",
   "execution_count": 4,
   "metadata": {},
   "outputs": [
    {
     "name": "stderr",
     "output_type": "stream",
     "text": [
      "                                                                                \r"
     ]
    },
    {
     "data": {
      "text/plain": [
       "32729"
      ]
     },
     "execution_count": 4,
     "metadata": {},
     "output_type": "execute_result"
    }
   ],
   "source": [
    "zones.count()\n",
    "data.select(\"PULocationID\",\"DOLocationID\").distinct().count()\n",
    "#34980"
   ]
  },
  {
   "cell_type": "markdown",
   "metadata": {},
   "source": [
    "# 数据概览"
   ]
  },
  {
   "cell_type": "markdown",
   "metadata": {},
   "source": [
    "每条数据包括以下 18 个特征:\n",
    "– VendorID: 数据来源的公司，1=Creative Mobile Technologies;\n",
    "2=VeriFone Inc.\n",
    "\n",
    "– tpep_pickup_datetime: 开始计价的时间\n",
    "\n",
    "– tpep_dropoff_datetime: 关闭计价的时间\n",
    "\n",
    "– passenger_count: 乘客数量\n",
    "\n",
    "– trip_distance: 路程(英里)\n",
    "\n",
    "– RatecodeID: 最终费率 code\n",
    "\n",
    "\n",
    "1. 标准价格\n",
    "2. JFK\n",
    "3. Newark\n",
    "4. Nassau or Westchester\n",
    "5. Negotiated fare\n",
    "6. Group ride\n",
    "– store_and_fwd_flag: 行程记录是否在发送给供应商之前存储在车辆中\n",
    "\n",
    "• Y=存储和转发\n",
    "• N=非存储和转发\n",
    "– PULocationID: 起点 ID(连表查询，下同)\n",
    "\n",
    "– DOLocationID:终点 ID\n",
    "\n",
    "– payment_type: 付款方式\n",
    "1. 信用卡\n",
    "2. 现金\n",
    "3. 免费\n",
    "4. 有争议 5. 未知\n",
    "6. 无效行程\n",
    "\n",
    "– fare_amount: 费用($)\n",
    "\n",
    "– extra:杂项额外费用和附加费\n",
    "\n",
    "– mta_tax: 根据使用计费率自动触发的$0.5 的附加费\n",
    "\n",
    "– tip_amount: 小费\n",
    "\n",
    "– tolls_amount: 所有通行费用总金额\n",
    "\n",
    "– improvement_surcharge: $0.3 的改进附加费用\n",
    "\n",
    "– total_amount: 总费用\n",
    "\n",
    "– congestion_surcharge: 拥堵费\n",
    "\n",
    "\n",
    "地点 ID 查询表:\n",
    "– 该表有四列\n",
    "\n",
    "– LocationID: 地点 ID\n",
    "\n",
    "– Borough:自治市/镇\n",
    "\n",
    "– Zone: 区\n",
    "\n",
    "– service_zone: 服务区"
   ]
  },
  {
   "cell_type": "markdown",
   "metadata": {},
   "source": [
    "# 课题一\n",
    "请计算各 LocationID 之间的路程，并分析各时间段路径繁忙/拥堵程度，给出相应的可视化展示。\n",
    "\n",
    "1. 计算location ID之间的距离\n",
    "- 看一共有多少组\n",
    "- 看对应每组地点之间的时间\n",
    "   - 不分顺序求均值，最大，最小，quantiles\n",
    "   - 分顺序求以上的统计量\n",
    "\n",
    "2. 分析各时间段的繁忙/拥堵程度\n",
    "\n",
    "\n"
   ]
  },
  {
   "cell_type": "markdown",
   "metadata": {},
   "source": [
    "### 计算location之间的距离\n",
    "- dis1 用于得到起点终点不同的距离\n",
    "    - 对平均值画出直方图：想看大值的里程数分布是怎么样的\n",
    "\n",
    "- dis2 表示同一段路程中的距离"
   ]
  },
  {
   "cell_type": "code",
   "execution_count": 5,
   "metadata": {},
   "outputs": [],
   "source": [
    "from pyspark.sql.types import IntegerType\n",
    "from pyspark.sql.functions import col\n",
    "data = data.withColumn('trip_distance',data.trip_distance.cast(IntegerType()))"
   ]
  },
  {
   "cell_type": "code",
   "execution_count": 254,
   "metadata": {},
   "outputs": [
    {
     "data": {
      "text/plain": [
       "6896317"
      ]
     },
     "execution_count": 254,
     "metadata": {},
     "output_type": "execute_result"
    }
   ],
   "source": [
    "data.count() # 6896317\n",
    "data.drop_duplicates().count() # 6896317, 说明这个每行都一不一样, 6896317yes!"
   ]
  },
  {
   "cell_type": "code",
   "execution_count": 21,
   "metadata": {},
   "outputs": [],
   "source": [
    "dis1 = data.groupBy('PULocationID','DOLocationID') \\\n",
    "    .agg(sum(\"trip_distance\").alias(\"sum_d\"), \\\n",
    "         avg(\"trip_distance\").alias(\"avg_d\"), \\\n",
    "         min(\"trip_distance\").alias(\"min_d\"), \\\n",
    "         max(\"trip_distance\").alias(\"max_d\"), \\\n",
    "         stddev(\"trip_distance\").alias(\"std_d\"),\\\n",
    "         count(\"VendorID\").alias(\"num\")\n",
    "     )\n"
   ]
  },
  {
   "cell_type": "markdown",
   "metadata": {},
   "source": [
    "- 从groupby后的表格中left join\n",
    "    - 含有sum+num+avg\n",
    "- 整理每一行的名字， 得到dis2: 这个表中存储着A-B的距离，其中1表示该方向，2表示反方向，null则代表没有这个方向的数据\n",
    "- 处理null值，d2,num2 可以直接设置为0, min2 设置为一个最大数即可, max2 设置成最小值\n",
    "- 通过将sum1 + sum2再除以总和得到均值\n",
    "\n",
    "\n",
    "TODO：如何直接在原始数据上得到两个距离之间的路程？并且通过这个计算出这个距离的基本统计量？"
   ]
  },
  {
   "cell_type": "code",
   "execution_count": null,
   "metadata": {},
   "outputs": [],
   "source": []
  },
  {
   "cell_type": "code",
   "execution_count": 59,
   "metadata": {},
   "outputs": [],
   "source": [
    "dis2 = dis1.alias(\"data1\").join(dis1.alias(\"data2\"), \\\n",
    "    (col(\"data1.PULocationID\") == col(\"data2.DOLocationID\")) & (col(\"data2.PULocationID\") == col(\"data1.DOLocationID\")), 'left') \\\n",
    "    .select(col(\"data1.PULocationID\").alias(\"PULocationID\"),\\\n",
    "        col(\"data1.DOLocationID\").alias(\"DOLocationID\"),\\\n",
    "        col(\"data1.sum_d\").alias(\"d1\"),\\\n",
    "        col(\"data2.sum_d\").alias(\"d2\"),\\\n",
    "        col(\"data1.num\").alias(\"num1\"),\\\n",
    "        col(\"data2.num\").alias(\"num2\"),\\\n",
    "        col(\"data1.min_d\").alias(\"min1\"),\\\n",
    "        col(\"data2.min_d\").alias(\"min2\"),\\\n",
    "        col(\"data1.max_d\").alias(\"max1\"),\\\n",
    "        col(\"data2.max_d\").alias(\"max2\")\n",
    "        )   \n",
    "#    .count() -- 32729 如果是left join, 然后再\n",
    "#  dis2.filter(dis2.num2.isNull()).count() 有7857行是null，所以将 32729+7857 =40586/2 =>20293 对 ?20417\n"
   ]
  },
  {
   "cell_type": "code",
   "execution_count": 80,
   "metadata": {},
   "outputs": [],
   "source": [
    "# 填充空值\n",
    "# 对于空的处理 null\n",
    "# - d2,num2 可以直接设置为0\n",
    "# min2 设置为一个最大数即可\n",
    "# dis3 是更改了null的\n",
    "import sys\n",
    "\n",
    "dis3 = dis2.na.fill(value=0, subset= [\"d2\",\"num2\",\"min2\",\"max2\"])\\\n",
    "    .na.fill(value = sys.maxsize, subset=[\"min2\"])\\\n",
    "    .na.fill(value = - sys.maxsize, subset=[\"max2\"])\n"
   ]
  },
  {
   "cell_type": "code",
   "execution_count": 81,
   "metadata": {},
   "outputs": [],
   "source": [
    "dis2_avg = dis3.selectExpr(\"PULocationID\",\"DOLocationID\",\\\n",
    "    \"(d1+d2)/(num1+num2) as avg\",\"min1\",\"min2\", \"max1\",\"max2\")\n",
    "\n",
    "# 检查是否正确\n",
    "# dis2_avg.filter((dis2_avg[\"PULocationID\"] == '148')& (dis2_avg[\"DOLocationID\"] == \"141\") | (dis2_avg[\"PULocationID\"] == '141')& (dis2_avg[\"DOLocationID\"] == \"148\"))\n"
   ]
  },
  {
   "cell_type": "code",
   "execution_count": 82,
   "metadata": {},
   "outputs": [
    {
     "name": "stderr",
     "output_type": "stream",
     "text": [
      "                                                                                \r"
     ]
    },
    {
     "data": {
      "text/html": [
       "<table border='1'>\n",
       "<tr><th>PULocationID</th><th>DOLocationID</th><th>d1</th><th>d2</th><th>num1</th><th>num2</th><th>min1</th><th>min2</th><th>max1</th><th>max2</th></tr>\n",
       "<tr><td>148</td><td>141</td><td>3520</td><td>1599</td><td>909</td><td>376</td><td>1</td><td>0</td><td>13</td><td>9</td></tr>\n",
       "<tr><td>230</td><td>262</td><td>3426</td><td>1768</td><td>1287</td><td>649</td><td>0</td><td>0</td><td>11</td><td>7</td></tr>\n",
       "<tr><td>234</td><td>13</td><td>5717</td><td>4348</td><td>1954</td><td>1384</td><td>0</td><td>-3</td><td>13</td><td>11</td></tr>\n",
       "<tr><td>211</td><td>88</td><td>411</td><td>425</td><td>253</td><td>254</td><td>1</td><td>1</td><td>4</td><td>5</td></tr>\n",
       "<tr><td>158</td><td>246</td><td>2727</td><td>2727</td><td>2946</td><td>2709</td><td>0</td><td>0</td><td>5</td><td>6</td></tr>\n",
       "<tr><td>231</td><td>264</td><td>132</td><td>890</td><td>169</td><td>284</td><td>0</td><td>0</td><td>14</td><td>29</td></tr>\n",
       "<tr><td>231</td><td>4</td><td>1345</td><td>447</td><td>585</td><td>219</td><td>-3</td><td>-3</td><td>7</td><td>6</td></tr>\n",
       "<tr><td>100</td><td>260</td><td>724</td><td>91</td><td>127</td><td>19</td><td>4</td><td>0</td><td>17</td><td>6</td></tr>\n",
       "<tr><td>246</td><td>230</td><td>7398</td><td>8893</td><td>6502</td><td>8209</td><td>0</td><td>0</td><td>24</td><td>21</td></tr>\n",
       "<tr><td>170</td><td>41</td><td>1813</td><td>442</td><td>393</td><td>94</td><td>0</td><td>0</td><td>11</td><td>7</td></tr>\n",
       "<tr><td>68</td><td>200</td><td>682</td><td>49</td><td>53</td><td>3</td><td>10</td><td>12</td><td>17</td><td>13</td></tr>\n",
       "<tr><td>132</td><td>108</td><td>2154</td><td>-16</td><td>137</td><td>0</td><td>13</td><td>-16</td><td>28</td><td>-16</td></tr>\n",
       "<tr><td>122</td><td>92</td><td>19</td><td>0</td><td>3</td><td>0</td><td>-9</td><td>0</td><td>12</td><td>0</td></tr>\n",
       "<tr><td>50</td><td>225</td><td>119</td><td>26</td><td>14</td><td>3</td><td>-9</td><td>8</td><td>12</td><td>9</td></tr>\n",
       "<tr><td>49</td><td>17</td><td>48</td><td>26</td><td>57</td><td>44</td><td>0</td><td>0</td><td>6</td><td>1</td></tr>\n",
       "<tr><td>144</td><td>89</td><td>554</td><td>25</td><td>79</td><td>0</td><td>4</td><td>5</td><td>12</td><td>8</td></tr>\n",
       "<tr><td>217</td><td>217</td><td>7</td><td>7</td><td>55</td><td>55</td><td>0</td><td>0</td><td>2</td><td>2</td></tr>\n",
       "<tr><td>33</td><td>112</td><td>196</td><td>32</td><td>46</td><td>7</td><td>0</td><td>4</td><td>6</td><td>5</td></tr>\n",
       "<tr><td>246</td><td>43</td><td>2229</td><td>3170</td><td>854</td><td>1120</td><td>0</td><td>1</td><td>6</td><td>16</td></tr>\n",
       "<tr><td>4</td><td>162</td><td>404</td><td>1799</td><td>171</td><td>712</td><td>1</td><td>2</td><td>4</td><td>9</td></tr>\n",
       "</table>\n",
       "only showing top 20 rows\n"
      ],
      "text/plain": [
       "+------------+------------+----+----+----+----+----+----+----+----+\n",
       "|PULocationID|DOLocationID|  d1|  d2|num1|num2|min1|min2|max1|max2|\n",
       "+------------+------------+----+----+----+----+----+----+----+----+\n",
       "|         148|         141|3520|1599| 909| 376|   1|   0|  13|   9|\n",
       "|         230|         262|3426|1768|1287| 649|   0|   0|  11|   7|\n",
       "|         234|          13|5717|4348|1954|1384|   0|  -3|  13|  11|\n",
       "|         211|          88| 411| 425| 253| 254|   1|   1|   4|   5|\n",
       "|         158|         246|2727|2727|2946|2709|   0|   0|   5|   6|\n",
       "|         231|         264| 132| 890| 169| 284|   0|   0|  14|  29|\n",
       "|         231|           4|1345| 447| 585| 219|  -3|  -3|   7|   6|\n",
       "|         100|         260| 724|  91| 127|  19|   4|   0|  17|   6|\n",
       "|         246|         230|7398|8893|6502|8209|   0|   0|  24|  21|\n",
       "|         170|          41|1813| 442| 393|  94|   0|   0|  11|   7|\n",
       "|          68|         200| 682|  49|  53|   3|  10|  12|  17|  13|\n",
       "|         132|         108|2154| -16| 137|   0|  13| -16|  28| -16|\n",
       "|         122|          92|  19|   0|   3|   0|  -9|   0|  12|   0|\n",
       "|          50|         225| 119|  26|  14|   3|  -9|   8|  12|   9|\n",
       "|          49|          17|  48|  26|  57|  44|   0|   0|   6|   1|\n",
       "|         144|          89| 554|  25|  79|   0|   4|   5|  12|   8|\n",
       "|         217|         217|   7|   7|  55|  55|   0|   0|   2|   2|\n",
       "|          33|         112| 196|  32|  46|   7|   0|   4|   6|   5|\n",
       "|         246|          43|2229|3170| 854|1120|   0|   1|   6|  16|\n",
       "|           4|         162| 404|1799| 171| 712|   1|   2|   4|   9|\n",
       "+------------+------------+----+----+----+----+----+----+----+----+\n",
       "only showing top 20 rows"
      ]
     },
     "execution_count": 82,
     "metadata": {},
     "output_type": "execute_result"
    }
   ],
   "source": [
    "dis3"
   ]
  },
  {
   "cell_type": "code",
   "execution_count": 117,
   "metadata": {},
   "outputs": [
    {
     "name": "stderr",
     "output_type": "stream",
     "text": [
      "                                                                                \r"
     ]
    },
    {
     "data": {
      "text/plain": [
       "32729"
      ]
     },
     "execution_count": 117,
     "metadata": {},
     "output_type": "execute_result"
    }
   ],
   "source": [
    "dis3.count()"
   ]
  },
  {
   "cell_type": "code",
   "execution_count": 118,
   "metadata": {},
   "outputs": [
    {
     "data": {
      "text/html": [
       "<table border='1'>\n",
       "<tr><th>PULocationID</th><th>DOLocationID</th><th>avg</th><th>min1</th><th>min2</th><th>max1</th><th>max2</th><th>end2end</th></tr>\n",
       "<tr><td>1</td><td>1</td><td>0.8951507208387942</td><td>0</td><td>0</td><td>26</td><td>26</td><td>1,1</td></tr>\n",
       "<tr><td>10</td><td>1</td><td>33.666666666666664</td><td>28</td><td>0</td><td>39</td><td>0</td><td>1,10</td></tr>\n",
       "<tr><td>100</td><td>1</td><td>16.794486215538846</td><td>0</td><td>0</td><td>21</td><td>0</td><td>1,100</td></tr>\n",
       "<tr><td>107</td><td>1</td><td>15.99705882352941</td><td>7</td><td>0</td><td>24</td><td>0</td><td>1,107</td></tr>\n",
       "<tr><td>11</td><td>1</td><td>18.0</td><td>18</td><td>0</td><td>18</td><td>0</td><td>1,11</td></tr>\n",
       "<tr><td>112</td><td>1</td><td>18.0</td><td>18</td><td>0</td><td>18</td><td>0</td><td>1,112</td></tr>\n",
       "<tr><td>113</td><td>1</td><td>14.451612903225806</td><td>12</td><td>14</td><td>20</td><td>14</td><td>1,113</td></tr>\n",
       "<tr><td>114</td><td>1</td><td>13.94017094017094</td><td>12</td><td>0</td><td>22</td><td>0</td><td>1,114</td></tr>\n",
       "<tr><td>116</td><td>1</td><td>23.4</td><td>21</td><td>0</td><td>26</td><td>0</td><td>1,116</td></tr>\n",
       "<tr><td>119</td><td>1</td><td>24.0</td><td>24</td><td>0</td><td>24</td><td>0</td><td>1,119</td></tr>\n",
       "<tr><td>12</td><td>1</td><td>15.333333333333334</td><td>14</td><td>0</td><td>16</td><td>0</td><td>1,12</td></tr>\n",
       "<tr><td>120</td><td>1</td><td>24.0</td><td>24</td><td>0</td><td>24</td><td>0</td><td>1,120</td></tr>\n",
       "<tr><td>125</td><td>1</td><td>13.25263157894737</td><td>10</td><td>14</td><td>19</td><td>14</td><td>1,125</td></tr>\n",
       "<tr><td>127</td><td>1</td><td>25.0</td><td>25</td><td>0</td><td>25</td><td>0</td><td>1,127</td></tr>\n",
       "<tr><td>13</td><td>1</td><td>14.501144164759726</td><td>12</td><td>0</td><td>22</td><td>0</td><td>1,13</td></tr>\n",
       "<tr><td>130</td><td>1</td><td>33.5</td><td>30</td><td>0</td><td>37</td><td>0</td><td>1,130</td></tr>\n",
       "<tr><td>132</td><td>1</td><td>35.88054607508533</td><td>0</td><td>0</td><td>57</td><td>0</td><td>1,132</td></tr>\n",
       "<tr><td>134</td><td>1</td><td>28.0</td><td>28</td><td>0</td><td>28</td><td>0</td><td>1,134</td></tr>\n",
       "<tr><td>137</td><td>1</td><td>16.794520547945204</td><td>14</td><td>0</td><td>21</td><td>0</td><td>1,137</td></tr>\n",
       "<tr><td>138</td><td>1</td><td>29.522935779816514</td><td>0</td><td>33</td><td>40</td><td>33</td><td>1,138</td></tr>\n",
       "</table>\n",
       "only showing top 20 rows\n"
      ],
      "text/plain": [
       "+------------+------------+------------------+----+----+----+----+-------+\n",
       "|PULocationID|DOLocationID|               avg|min1|min2|max1|max2|end2end|\n",
       "+------------+------------+------------------+----+----+----+----+-------+\n",
       "|           1|           1|0.8951507208387942|   0|   0|  26|  26|    1,1|\n",
       "|          10|           1|33.666666666666664|  28|   0|  39|   0|   1,10|\n",
       "|         100|           1|16.794486215538846|   0|   0|  21|   0|  1,100|\n",
       "|         107|           1| 15.99705882352941|   7|   0|  24|   0|  1,107|\n",
       "|          11|           1|              18.0|  18|   0|  18|   0|   1,11|\n",
       "|         112|           1|              18.0|  18|   0|  18|   0|  1,112|\n",
       "|         113|           1|14.451612903225806|  12|  14|  20|  14|  1,113|\n",
       "|         114|           1| 13.94017094017094|  12|   0|  22|   0|  1,114|\n",
       "|         116|           1|              23.4|  21|   0|  26|   0|  1,116|\n",
       "|         119|           1|              24.0|  24|   0|  24|   0|  1,119|\n",
       "|          12|           1|15.333333333333334|  14|   0|  16|   0|   1,12|\n",
       "|         120|           1|              24.0|  24|   0|  24|   0|  1,120|\n",
       "|         125|           1| 13.25263157894737|  10|  14|  19|  14|  1,125|\n",
       "|         127|           1|              25.0|  25|   0|  25|   0|  1,127|\n",
       "|          13|           1|14.501144164759726|  12|   0|  22|   0|   1,13|\n",
       "|         130|           1|              33.5|  30|   0|  37|   0|  1,130|\n",
       "|         132|           1| 35.88054607508533|   0|   0|  57|   0|  1,132|\n",
       "|         134|           1|              28.0|  28|   0|  28|   0|  1,134|\n",
       "|         137|           1|16.794520547945204|  14|   0|  21|   0|  1,137|\n",
       "|         138|           1|29.522935779816514|   0|  33|  40|  33|  1,138|\n",
       "+------------+------------+------------------+----+----+----+----+-------+\n",
       "only showing top 20 rows"
      ]
     },
     "execution_count": 118,
     "metadata": {},
     "output_type": "execute_result"
    }
   ],
   "source": [
    "# 将 dataframe 变成rdd, 然后变成一个sorted list， 如何保留方向信息？ 我觉得直接加上一行，which is sorted\n",
    "# dis4 是drop-duplicated之后的\n",
    "from pyspark.sql import Row\n",
    "from pyspark.sql.types import StructType,StructField,StringType,IntegerType,FloatType\n",
    "def get_end2end(values):\n",
    "    return Row(values[0], values[1], values[2],values[3], values[4],values[5],values[6],values[7],values[8],values[9], ','.join(sorted([values[0], values[1]])))\n",
    "\n",
    "rdd1 = dis3.rdd.map(get_end2end)\n",
    "dis4 = rdd1.toDF(['PULocationID','DOLocationID','d1','d2','num1','num2','min1','min2','max1','max2','end2end'])\\\n",
    "    .drop_duplicates(subset=['end2end'])\n",
    "dis4_avg = dis4.selectExpr(\"PULocationID\",\"DOLocationID\",\\\n",
    "    \"(d1+d2)/(num1+num2) as avg\",\"min1\",\"min2\", \"max1\",\"max2\",\"end2end\")\n",
    "dis4_avg"
   ]
  },
  {
   "cell_type": "code",
   "execution_count": 115,
   "metadata": {},
   "outputs": [
    {
     "data": {
      "text/plain": [
       "20417"
      ]
     },
     "execution_count": 115,
     "metadata": {},
     "output_type": "execute_result"
    }
   ],
   "source": [
    "dis4_avg.count()\n",
    "# 不知道为什么对不上。。。"
   ]
  },
  {
   "cell_type": "markdown",
   "metadata": {},
   "source": [
    "#### 在最开始就用rdd 转化一下"
   ]
  },
  {
   "cell_type": "code",
   "execution_count": 126,
   "metadata": {},
   "outputs": [],
   "source": [
    "def get_end2end2(values):\n",
    "    return Row(values[0], values[1], values[2], ','.join(sorted([values[0], values[1]])))\n",
    "\n",
    "dis5 = data.select('PULocationID','DOLocationID','trip_distance').rdd.map(get_end2end2)\\\n",
    "    .toDF(['PULocationID','DOLocationID','trip_distance','end2end'])\\\n",
    "    .drop_duplicates(subset = ['end2end'])\\\n",
    "    .groupBy('end2end')\\\n",
    "    .agg(sum(\"trip_distance\").alias(\"sum_d\"), \\\n",
    "         avg(\"trip_distance\").alias(\"avg_d\"), \\\n",
    "         min(\"trip_distance\").alias(\"min_d\"), \\\n",
    "         max(\"trip_distance\").alias(\"max_d\"), \\\n",
    "         stddev(\"trip_distance\").alias(\"std_d\"),\\\n",
    "         count(\"end2end\").alias(\"num\")\n",
    "     )\n",
    "     "
   ]
  },
  {
   "cell_type": "code",
   "execution_count": 128,
   "metadata": {},
   "outputs": [
    {
     "name": "stderr",
     "output_type": "stream",
     "text": [
      "                                                                                \r"
     ]
    },
    {
     "data": {
      "text/html": [
       "<table border='1'>\n",
       "<tr><th>end2end</th><th>sum_d</th><th>avg_d</th><th>min_d</th><th>max_d</th><th>std_d</th><th>num</th></tr>\n",
       "<tr><td>113,142</td><td>3</td><td>3.0</td><td>3</td><td>3</td><td>null</td><td>1</td></tr>\n",
       "<tr><td>142,209</td><td>7</td><td>7.0</td><td>7</td><td>7</td><td>null</td><td>1</td></tr>\n",
       "<tr><td>163,170</td><td>1</td><td>1.0</td><td>1</td><td>1</td><td>null</td><td>1</td></tr>\n",
       "<tr><td>161,233</td><td>0</td><td>0.0</td><td>0</td><td>0</td><td>null</td><td>1</td></tr>\n",
       "<tr><td>107,97</td><td>4</td><td>4.0</td><td>4</td><td>4</td><td>null</td><td>1</td></tr>\n",
       "<tr><td>17,239</td><td>10</td><td>10.0</td><td>10</td><td>10</td><td>null</td><td>1</td></tr>\n",
       "<tr><td>231,75</td><td>7</td><td>7.0</td><td>7</td><td>7</td><td>null</td><td>1</td></tr>\n",
       "<tr><td>146,249</td><td>7</td><td>7.0</td><td>7</td><td>7</td><td>null</td><td>1</td></tr>\n",
       "<tr><td>147,263</td><td>4</td><td>4.0</td><td>4</td><td>4</td><td>null</td><td>1</td></tr>\n",
       "<tr><td>145,264</td><td>0</td><td>0.0</td><td>0</td><td>0</td><td>null</td><td>1</td></tr>\n",
       "<tr><td>137,145</td><td>3</td><td>3.0</td><td>3</td><td>3</td><td>null</td><td>1</td></tr>\n",
       "<tr><td>244,43</td><td>7</td><td>7.0</td><td>7</td><td>7</td><td>null</td><td>1</td></tr>\n",
       "<tr><td>24,255</td><td>11</td><td>11.0</td><td>11</td><td>11</td><td>null</td><td>1</td></tr>\n",
       "<tr><td>218,39</td><td>0</td><td>0.0</td><td>0</td><td>0</td><td>null</td><td>1</td></tr>\n",
       "<tr><td>42,65</td><td>12</td><td>12.0</td><td>12</td><td>12</td><td>null</td><td>1</td></tr>\n",
       "<tr><td>166,181</td><td>0</td><td>0.0</td><td>0</td><td>0</td><td>null</td><td>1</td></tr>\n",
       "<tr><td>128,236</td><td>7</td><td>7.0</td><td>7</td><td>7</td><td>null</td><td>1</td></tr>\n",
       "<tr><td>233,31</td><td>12</td><td>12.0</td><td>12</td><td>12</td><td>null</td><td>1</td></tr>\n",
       "<tr><td>127,229</td><td>8</td><td>8.0</td><td>8</td><td>8</td><td>null</td><td>1</td></tr>\n",
       "<tr><td>205,226</td><td>14</td><td>14.0</td><td>14</td><td>14</td><td>null</td><td>1</td></tr>\n",
       "</table>\n",
       "only showing top 20 rows\n"
      ],
      "text/plain": [
       "+-------+-----+-----+-----+-----+-----+---+\n",
       "|end2end|sum_d|avg_d|min_d|max_d|std_d|num|\n",
       "+-------+-----+-----+-----+-----+-----+---+\n",
       "|113,142|    3|  3.0|    3|    3| null|  1|\n",
       "|142,209|    7|  7.0|    7|    7| null|  1|\n",
       "|163,170|    1|  1.0|    1|    1| null|  1|\n",
       "|161,233|    0|  0.0|    0|    0| null|  1|\n",
       "| 107,97|    4|  4.0|    4|    4| null|  1|\n",
       "| 17,239|   10| 10.0|   10|   10| null|  1|\n",
       "| 231,75|    7|  7.0|    7|    7| null|  1|\n",
       "|146,249|    7|  7.0|    7|    7| null|  1|\n",
       "|147,263|    4|  4.0|    4|    4| null|  1|\n",
       "|145,264|    0|  0.0|    0|    0| null|  1|\n",
       "|137,145|    3|  3.0|    3|    3| null|  1|\n",
       "| 244,43|    7|  7.0|    7|    7| null|  1|\n",
       "| 24,255|   11| 11.0|   11|   11| null|  1|\n",
       "| 218,39|    0|  0.0|    0|    0| null|  1|\n",
       "|  42,65|   12| 12.0|   12|   12| null|  1|\n",
       "|166,181|    0|  0.0|    0|    0| null|  1|\n",
       "|128,236|    7|  7.0|    7|    7| null|  1|\n",
       "| 233,31|   12| 12.0|   12|   12| null|  1|\n",
       "|127,229|    8|  8.0|    8|    8| null|  1|\n",
       "|205,226|   14| 14.0|   14|   14| null|  1|\n",
       "+-------+-----+-----+-----+-----+-----+---+\n",
       "only showing top 20 rows"
      ]
     },
     "execution_count": 128,
     "metadata": {},
     "output_type": "execute_result"
    }
   ],
   "source": [
    "dis5"
   ]
  },
  {
   "cell_type": "markdown",
   "metadata": {},
   "source": [
    "### 分析拥堵程度\n",
    "分析各时间段路径繁忙/拥堵程度\n",
    "- 首先把时间按照区间分：早高峰（7:00-10:00），之间时间，白天（10:00-17:00），晚高峰（17:00-20:00），晚上（20:00-7:00）\n",
    "   - 按空格截取时间\n",
    "   - 按照日期附上星期\n",
    "   - 通过工作日和节假日进行区分\n",
    "   - 分别对工作日和节假日统计上述时段的打车次数\n",
    "\n",
    "- 定义繁忙程度：\n",
    "   - 总和-可以得到\n",
    "   - 根据每个路段的平均速度：距离/时间差\n",
    "\n"
   ]
  },
  {
   "cell_type": "code",
   "execution_count": 131,
   "metadata": {},
   "outputs": [
    {
     "name": "stderr",
     "output_type": "stream",
     "text": [
      "                                                                                \r"
     ]
    },
    {
     "data": {
      "text/html": [
       "<table border='1'>\n",
       "<tr><th>summary</th><th>VendorID</th><th>tpep_pickup_datetime</th><th>tpep_dropoff_datetime</th><th>passenger_count</th><th>trip_distance</th><th>RatecodeID</th><th>store_and_fwd_flag</th><th>PULocationID</th><th>DOLocationID</th><th>payment_type</th><th>fare_amount</th><th>extra</th><th>mta_tax</th><th>tip_amount</th><th>tolls_amount</th><th>improvement_surcharge</th><th>total_amount</th><th>congestion_surcharge</th></tr>\n",
       "<tr><td>count</td><td>6845299</td><td>6896317</td><td>6896317</td><td>6845299</td><td>6896317</td><td>6845299</td><td>6845299</td><td>6896317</td><td>6896317</td><td>6845299</td><td>6896317</td><td>6896317</td><td>6896317</td><td>6896317</td><td>6896317</td><td>6896317</td><td>6896317</td><td>6896317</td></tr>\n",
       "<tr><td>mean</td><td>1.6664569363588062</td><td>null</td><td>null</td><td>1.5508773247158378</td><td>2.488633715648512</td><td>1.0657559297263712</td><td>null</td><td>163.65246957180187</td><td>161.4892224356856</td><td>1.2989929293081282</td><td>13.590267515254224</td><td>1.108518423674553</td><td>0.4924147425357621</td><td>2.2446201080963277</td><td>0.3881238289943238</td><td>0.297985707438931</td><td>19.641648841108157</td><td>2.275277731577594</td></tr>\n",
       "<tr><td>stddev</td><td>0.47147865361194635</td><td>null</td><td>null</td><td>1.174329936324991</td><td>16.433577726066975</td><td>0.9309869500238785</td><td>null</td><td>66.057584252846</td><td>70.33752677935428</td><td>0.48794008332885574</td><td>152.26922211518502</td><td>1.259892096450168</td><td>0.07233856758938441</td><td>2.875127115256801</td><td>1.7155019763696664</td><td>0.03381443693976937</td><td>152.52358091981944</td><td>0.7359668903723857</td></tr>\n",
       "<tr><td>min</td><td>1</td><td>2008-12-31 18:13:42</td><td>2008-12-31 18:27:42</td><td>0</td><td>-37264</td><td>1</td><td>N</td><td>1</td><td>1</td><td>1</td><td>-0.01</td><td>-0.5</td><td>-0.5</td><td>-0.01</td><td>-1</td><td>-0.3</td><td>-0.31</td><td>-0.75</td></tr>\n",
       "<tr><td>max</td><td>2</td><td>2090-12-31 06:41:26</td><td>2090-12-31 07:18:49</td><td>9</td><td>19130</td><td>99</td><td>Y</td><td>99</td><td>99</td><td>5</td><td>99.99</td><td>90.06</td><td>3.3</td><td>99.99</td><td>97</td><td>0.3</td><td>99.99</td><td>3</td></tr>\n",
       "</table>\n"
      ],
      "text/plain": [
       "+-------+-------------------+--------------------+---------------------+------------------+------------------+------------------+------------------+------------------+-----------------+-------------------+------------------+-----------------+-------------------+------------------+------------------+---------------------+------------------+--------------------+\n",
       "|summary|           VendorID|tpep_pickup_datetime|tpep_dropoff_datetime|   passenger_count|     trip_distance|        RatecodeID|store_and_fwd_flag|      PULocationID|     DOLocationID|       payment_type|       fare_amount|            extra|            mta_tax|        tip_amount|      tolls_amount|improvement_surcharge|      total_amount|congestion_surcharge|\n",
       "+-------+-------------------+--------------------+---------------------+------------------+------------------+------------------+------------------+------------------+-----------------+-------------------+------------------+-----------------+-------------------+------------------+------------------+---------------------+------------------+--------------------+\n",
       "|  count|            6845299|             6896317|              6896317|           6845299|           6896317|           6845299|           6845299|           6896317|          6896317|            6845299|           6896317|          6896317|            6896317|           6896317|           6896317|              6896317|           6896317|             6896317|\n",
       "|   mean| 1.6664569363588062|                null|                 null|1.5508773247158378| 2.488633715648512|1.0657559297263712|              null|163.65246957180187|161.4892224356856| 1.2989929293081282|13.590267515254224|1.108518423674553| 0.4924147425357621|2.2446201080963277|0.3881238289943238|    0.297985707438931|19.641648841108157|   2.275277731577594|\n",
       "| stddev|0.47147865361194635|                null|                 null| 1.174329936324991|16.433577726066975|0.9309869500238785|              null|   66.057584252846|70.33752677935428|0.48794008332885574|152.26922211518502|1.259892096450168|0.07233856758938441| 2.875127115256801|1.7155019763696664|  0.03381443693976937|152.52358091981944|  0.7359668903723857|\n",
       "|    min|                  1| 2008-12-31 18:13:42|  2008-12-31 18:27:42|                 0|            -37264|                 1|                 N|                 1|                1|                  1|             -0.01|             -0.5|               -0.5|             -0.01|                -1|                 -0.3|             -0.31|               -0.75|\n",
       "|    max|                  2| 2090-12-31 06:41:26|  2090-12-31 07:18:49|                 9|             19130|                99|                 Y|                99|               99|                  5|             99.99|            90.06|                3.3|             99.99|                97|                  0.3|             99.99|                   3|\n",
       "+-------+-------------------+--------------------+---------------------+------------------+------------------+------------------+------------------+------------------+-----------------+-------------------+------------------+-----------------+-------------------+------------------+------------------+---------------------+------------------+--------------------+"
      ]
     },
     "execution_count": 131,
     "metadata": {},
     "output_type": "execute_result"
    }
   ],
   "source": [
    "data.describe()\n",
    "#select(min(\"tpep_pickup_datetime\"),max(\"tpep_pickup_datetime\"))\n"
   ]
  },
  {
   "cell_type": "code",
   "execution_count": 239,
   "metadata": {},
   "outputs": [
    {
     "data": {
      "text/plain": [
       "0"
      ]
     },
     "execution_count": 239,
     "metadata": {},
     "output_type": "execute_result"
    }
   ],
   "source": [
    "import re\n",
    "import datetime\n",
    "\n",
    "# 2008-12-31 18:13:42\n",
    "a = [int(i) for i in re.split(\"\\W+\", \"2008-12-31 18:13:42\")]\n",
    "datetime.date(a[0], a[1], a[2]).isoweekday()\n",
    "b = [int(i) for i in re.split(\"\\W+\", \"2009-01-02 18:13:42\")]\n",
    "timedelta = datetime.datetime(a[0],a[1],a[2],a[3],a[4],a[5]) - datetime.datetime(b[0],b[1],b[2],b[3],b[4],b[5])\n",
    "timedelta.seconds\n",
    "\n"
   ]
  },
  {
   "cell_type": "code",
   "execution_count": 247,
   "metadata": {},
   "outputs": [],
   "source": [
    "def get_weekday(values):\n",
    "    \"\"\"这个方法用来将日期对应到weekday，以及计算出时间差\n",
    "    1. 如果发现end-start==0， 那么将这个时间差复值为-1\n",
    "    2. 如果end-start 刚好是一整天，则会存在问题，需要把days转化为小时，mph，全称miles per hour\n",
    " \n",
    "    Args:\n",
    "        values (_type_): _description_\n",
    "\n",
    "    Returns:\n",
    "        _type_: _description_\n",
    "    \"\"\"\n",
    "    temp1 = [int(i) for i in re.split(\"\\W+\",values[3])]\n",
    "    temp11 = values[3].split(' ')\n",
    "    start = datetime.datetime(temp1[0],temp1[1],temp1[2],temp1[3],temp1[4],temp1[5])\n",
    "    weekday1 = datetime.date(temp1[0], temp1[1], temp1[2]).isoweekday()\n",
    "\n",
    "\n",
    "    temp2 = [int(i) for i in re.split(\"\\W+\",values[4])]\n",
    "    temp22 = values[4].split(' ')\n",
    "    end = datetime.datetime(temp2[0],temp2[1],temp2[2],temp2[3],temp2[4],temp2[5])\n",
    "    weekday2 = datetime.date(temp2[0], temp2[1], temp2[2]).isoweekday()\n",
    "\n",
    "    delta_time = 0 # 单位是小时h\n",
    "    if ((end-start).seconds  == 0) & ((end-start).days == 0):\n",
    "        delta_time = -1\n",
    "    elif ((end-start).seconds  == 0) & ((end-start).days != 0):\n",
    "        delta_time = (end-start).days * 24\n",
    "    else:\n",
    "        delta_time = (end-start).seconds/3600\n",
    "\n",
    "    # 计算速度\n",
    "    speed = int(values[2]/delta_time) # mph\n",
    "\n",
    "    \n",
    "\n",
    "    # 返回'PULocationID','DOLocationID','trip_distance','pickup_date','pickup_time','pickup_weekday','dropoff_date','dropoff_time','dropoff_weekday'\n",
    "    return Row(values[0], values[1], values[2], temp11[0], temp11[1], weekday1,temp22[0], temp22[1], weekday2,delta_time,speed)\n",
    "\n",
    "\n",
    "    \n",
    "weekday_df = data.select('PULocationID','DOLocationID','trip_distance', \\\n",
    "    'tpep_pickup_datetime',\t'tpep_dropoff_datetime').rdd.map(get_weekday)\\\n",
    "    .toDF(['PULocationID','DOLocationID','trip_distance','pickup_date','pickup_time'\\\n",
    "        ,'pickup_weekday','dropoff_date','dropoff_time','dropoff_weekday',\"delta_time\",\"speed_mph\"])\n"
   ]
  },
  {
   "cell_type": "markdown",
   "metadata": {},
   "source": [
    "#### 看是否有非法数据"
   ]
  },
  {
   "cell_type": "code",
   "execution_count": 179,
   "metadata": {},
   "outputs": [
    {
     "name": "stderr",
     "output_type": "stream",
     "text": [
      "                                                                                \r"
     ]
    },
    {
     "data": {
      "text/plain": [
       "0"
      ]
     },
     "execution_count": 179,
     "metadata": {},
     "output_type": "execute_result"
    }
   ],
   "source": [
    "# weekday_df.filter(weekday_df['pickup_week'] != weekday_df['dropoff_weekday']).count() --77023\n",
    "# weekday_df.filter(weekday_df['pickup_date'] != weekday_df['dropoff_date']).count() --77023 跨天的\n",
    "# 看有没有非法数据，比如间隔很多天：0\n",
    "# weekday_df.filter((weekday_df['dropoff_date'] - weekday_df['pickup_date'] != 1) | (weekday_df['dropoff_date'] - weekday_df['pickup_date'] != -6)).count()\n"
   ]
  },
  {
   "cell_type": "markdown",
   "metadata": {},
   "source": [
    "#### 对时间段进行处理以及得到平均速度\n",
    "- 首先将时间映射到4个时间上（用rdd, map 实现）\n",
    "- 然后通过count每一组的数量得到整个的(groupby time_interval)\n",
    "- 进一步看比较繁忙的路段的（groupby time_interval and 起点终点）"
   ]
  },
  {
   "cell_type": "code",
   "execution_count": 248,
   "metadata": {},
   "outputs": [
    {
     "data": {
      "text/html": [
       "<table border='1'>\n",
       "<tr><th>PULocationID</th><th>DOLocationID</th><th>trip_distance</th><th>pickup_date</th><th>pickup_time</th><th>pickup_weekday</th><th>dropoff_date</th><th>dropoff_time</th><th>dropoff_weekday</th><th>delta_time</th><th>speed_mph</th></tr>\n",
       "<tr><td>142</td><td>116</td><td>4</td><td>2019-12-01</td><td>00:26:58</td><td>7</td><td>2019-12-01</td><td>00:41:45</td><td>7</td><td>0.24638888888888888</td><td>16</td></tr>\n",
       "<tr><td>145</td><td>145</td><td>0</td><td>2019-12-01</td><td>00:12:08</td><td>7</td><td>2019-12-01</td><td>00:12:14</td><td>7</td><td>0.001666666666666...</td><td>0</td></tr>\n",
       "<tr><td>145</td><td>145</td><td>0</td><td>2019-12-01</td><td>00:25:53</td><td>7</td><td>2019-12-01</td><td>00:26:04</td><td>7</td><td>0.003055555555555...</td><td>0</td></tr>\n",
       "<tr><td>138</td><td>25</td><td>9</td><td>2019-12-01</td><td>00:12:03</td><td>7</td><td>2019-12-01</td><td>00:33:19</td><td>7</td><td>0.35444444444444445</td><td>25</td></tr>\n",
       "<tr><td>161</td><td>237</td><td>1</td><td>2019-12-01</td><td>00:05:27</td><td>7</td><td>2019-12-01</td><td>00:16:32</td><td>7</td><td>0.18472222222222223</td><td>5</td></tr>\n",
       "<tr><td>161</td><td>230</td><td>1</td><td>2019-12-01</td><td>00:58:51</td><td>7</td><td>2019-12-01</td><td>01:08:37</td><td>7</td><td>0.16277777777777777</td><td>6</td></tr>\n",
       "<tr><td>164</td><td>163</td><td>1</td><td>2019-12-01</td><td>00:14:19</td><td>7</td><td>2019-12-01</td><td>00:27:06</td><td>7</td><td>0.21305555555555555</td><td>4</td></tr>\n",
       "<tr><td>79</td><td>224</td><td>0</td><td>2019-12-01</td><td>00:29:35</td><td>7</td><td>2019-12-01</td><td>00:32:29</td><td>7</td><td>0.04833333333333333</td><td>0</td></tr>\n",
       "<tr><td>79</td><td>107</td><td>1</td><td>2019-12-01</td><td>00:42:19</td><td>7</td><td>2019-12-01</td><td>00:50:34</td><td>7</td><td>0.1375</td><td>7</td></tr>\n",
       "<tr><td>148</td><td>4</td><td>0</td><td>2019-12-01</td><td>00:19:48</td><td>7</td><td>2019-12-01</td><td>00:24:18</td><td>7</td><td>0.075</td><td>0</td></tr>\n",
       "<tr><td>79</td><td>226</td><td>5</td><td>2019-12-01</td><td>00:36:16</td><td>7</td><td>2019-12-01</td><td>00:53:42</td><td>7</td><td>0.29055555555555557</td><td>17</td></tr>\n",
       "<tr><td>234</td><td>230</td><td>2</td><td>2019-11-30</td><td>23:54:45</td><td>6</td><td>2019-12-01</td><td>00:09:57</td><td>7</td><td>0.25333333333333335</td><td>7</td></tr>\n",
       "<tr><td>186</td><td>48</td><td>1</td><td>2019-12-01</td><td>00:39:43</td><td>7</td><td>2019-12-01</td><td>00:52:06</td><td>7</td><td>0.2063888888888889</td><td>4</td></tr>\n",
       "<tr><td>41</td><td>51</td><td>13</td><td>2019-12-01</td><td>00:43:02</td><td>7</td><td>2019-12-01</td><td>01:11:18</td><td>7</td><td>0.4711111111111111</td><td>27</td></tr>\n",
       "<tr><td>132</td><td>141</td><td>17</td><td>2019-12-01</td><td>00:04:40</td><td>7</td><td>2019-12-01</td><td>00:31:27</td><td>7</td><td>0.4463888888888889</td><td>38</td></tr>\n",
       "<tr><td>246</td><td>246</td><td>0</td><td>2019-12-01</td><td>00:08:57</td><td>7</td><td>2019-12-01</td><td>00:09:18</td><td>7</td><td>0.005833333333333334</td><td>0</td></tr>\n",
       "<tr><td>230</td><td>230</td><td>3</td><td>2019-12-01</td><td>00:57:16</td><td>7</td><td>2019-12-01</td><td>01:19:32</td><td>7</td><td>0.3711111111111111</td><td>8</td></tr>\n",
       "<tr><td>132</td><td>238</td><td>19</td><td>2019-12-01</td><td>00:37:17</td><td>7</td><td>2019-12-01</td><td>01:07:39</td><td>7</td><td>0.5061111111111111</td><td>37</td></tr>\n",
       "<tr><td>68</td><td>265</td><td>23</td><td>2019-12-01</td><td>00:43:27</td><td>7</td><td>2019-12-01</td><td>01:23:30</td><td>7</td><td>0.6675</td><td>34</td></tr>\n",
       "<tr><td>138</td><td>85</td><td>11</td><td>2019-12-01</td><td>00:43:09</td><td>7</td><td>2019-12-01</td><td>01:11:07</td><td>7</td><td>0.4661111111111111</td><td>23</td></tr>\n",
       "</table>\n",
       "only showing top 20 rows\n"
      ],
      "text/plain": [
       "+------------+------------+-------------+-----------+-----------+--------------+------------+------------+---------------+--------------------+---------+\n",
       "|PULocationID|DOLocationID|trip_distance|pickup_date|pickup_time|pickup_weekday|dropoff_date|dropoff_time|dropoff_weekday|          delta_time|speed_mph|\n",
       "+------------+------------+-------------+-----------+-----------+--------------+------------+------------+---------------+--------------------+---------+\n",
       "|         142|         116|            4| 2019-12-01|   00:26:58|             7|  2019-12-01|    00:41:45|              7| 0.24638888888888888|       16|\n",
       "|         145|         145|            0| 2019-12-01|   00:12:08|             7|  2019-12-01|    00:12:14|              7|0.001666666666666...|        0|\n",
       "|         145|         145|            0| 2019-12-01|   00:25:53|             7|  2019-12-01|    00:26:04|              7|0.003055555555555...|        0|\n",
       "|         138|          25|            9| 2019-12-01|   00:12:03|             7|  2019-12-01|    00:33:19|              7| 0.35444444444444445|       25|\n",
       "|         161|         237|            1| 2019-12-01|   00:05:27|             7|  2019-12-01|    00:16:32|              7| 0.18472222222222223|        5|\n",
       "|         161|         230|            1| 2019-12-01|   00:58:51|             7|  2019-12-01|    01:08:37|              7| 0.16277777777777777|        6|\n",
       "|         164|         163|            1| 2019-12-01|   00:14:19|             7|  2019-12-01|    00:27:06|              7| 0.21305555555555555|        4|\n",
       "|          79|         224|            0| 2019-12-01|   00:29:35|             7|  2019-12-01|    00:32:29|              7| 0.04833333333333333|        0|\n",
       "|          79|         107|            1| 2019-12-01|   00:42:19|             7|  2019-12-01|    00:50:34|              7|              0.1375|        7|\n",
       "|         148|           4|            0| 2019-12-01|   00:19:48|             7|  2019-12-01|    00:24:18|              7|               0.075|        0|\n",
       "|          79|         226|            5| 2019-12-01|   00:36:16|             7|  2019-12-01|    00:53:42|              7| 0.29055555555555557|       17|\n",
       "|         234|         230|            2| 2019-11-30|   23:54:45|             6|  2019-12-01|    00:09:57|              7| 0.25333333333333335|        7|\n",
       "|         186|          48|            1| 2019-12-01|   00:39:43|             7|  2019-12-01|    00:52:06|              7|  0.2063888888888889|        4|\n",
       "|          41|          51|           13| 2019-12-01|   00:43:02|             7|  2019-12-01|    01:11:18|              7|  0.4711111111111111|       27|\n",
       "|         132|         141|           17| 2019-12-01|   00:04:40|             7|  2019-12-01|    00:31:27|              7|  0.4463888888888889|       38|\n",
       "|         246|         246|            0| 2019-12-01|   00:08:57|             7|  2019-12-01|    00:09:18|              7|0.005833333333333334|        0|\n",
       "|         230|         230|            3| 2019-12-01|   00:57:16|             7|  2019-12-01|    01:19:32|              7|  0.3711111111111111|        8|\n",
       "|         132|         238|           19| 2019-12-01|   00:37:17|             7|  2019-12-01|    01:07:39|              7|  0.5061111111111111|       37|\n",
       "|          68|         265|           23| 2019-12-01|   00:43:27|             7|  2019-12-01|    01:23:30|              7|              0.6675|       34|\n",
       "|         138|          85|           11| 2019-12-01|   00:43:09|             7|  2019-12-01|    01:11:07|              7|  0.4661111111111111|       23|\n",
       "+------------+------------+-------------+-----------+-----------+--------------+------------+------------+---------------+--------------------+---------+\n",
       "only showing top 20 rows"
      ]
     },
     "execution_count": 248,
     "metadata": {},
     "output_type": "execute_result"
    }
   ],
   "source": [
    "weekday_df"
   ]
  },
  {
   "cell_type": "code",
   "execution_count": 250,
   "metadata": {},
   "outputs": [],
   "source": [
    "#PULocationID\tDOLocationID\ttrip_distance\tpickup_date\tpickup_time\tpickup_weekday\tdropoff_date\tdropoff_time\tdropoff_weekday delta_time\tspeed_mph\n",
    "def get_time_interval(values):\n",
    "    time_interval = 0\n",
    "    if (values[4] > '07:00:00') & (values[4] <= '10:00:00'):\n",
    "        time_interval = 1\n",
    "    elif (values[4] > '10:00:00') & (values[4] <= '17:00:00'):\n",
    "        time_interval = 2\n",
    "    elif (values[4] > '17:00:00') & (values[4] <= '21:00:00'):\n",
    "        time_interval = 3\n",
    "    else: \n",
    "        time_interval = 4\n",
    "\n",
    "    is_workday = 0\n",
    "    if values[5] < 6:\n",
    "        is_workday == 1\n",
    "    else:\n",
    "        is_workday == 0\n",
    "\n",
    "    return Row(values[0],values[1],values[2],values[3], values[4], values[5],values[6], values[7],values[8],values[9],values[10],time_interval,is_workday)\n",
    "\n",
    "weekday_df2 = weekday_df.rdd.map(get_time_interval)\\\n",
    "    .toDF(['PULocationID',\t'DOLocationID',\t'trip_distance',\t\\\n",
    "        'pickup_date',\t'pickup_time',\t'pickup_weekday',\t'dropoff_date',\t\\\n",
    "        'dropoff_time',\t'dropoff_weekday','delta_time','speed_mph','time_interval','is_workday'])\n",
    "\n"
   ]
  },
  {
   "cell_type": "markdown",
   "metadata": {},
   "source": [
    "#### 首先按照weekday和time_interval进行研究\n",
    "在周末，工作日的四个不同时段分别统计各个路段之间的以下指标：\n",
    "- 总数：反应这个路段在该时间段内的数量\n",
    "- 速度平均值：反应路段的拥堵程度\n"
   ]
  },
  {
   "cell_type": "code",
   "execution_count": 257,
   "metadata": {},
   "outputs": [
    {
     "data": {
      "text/html": [
       "<table border='1'>\n",
       "<tr><th>sum(num)</th></tr>\n",
       "<tr><td>6896317</td></tr>\n",
       "</table>\n"
      ],
      "text/plain": [
       "+--------+\n",
       "|sum(num)|\n",
       "+--------+\n",
       "| 6896317|\n",
       "+--------+"
      ]
     },
     "execution_count": 257,
     "metadata": {},
     "output_type": "execute_result"
    },
    {
     "name": "stdout",
     "output_type": "stream",
     "text": [
      "22/11/16 21:15:40 WARN TransportChannelHandler: Exception in connection from /10.12.7.110:54634\n",
      "java.io.IOException: Operation timed out\n",
      "\tat sun.nio.ch.FileDispatcherImpl.read0(Native Method)\n",
      "\tat sun.nio.ch.SocketDispatcher.read(SocketDispatcher.java:39)\n",
      "\tat sun.nio.ch.IOUtil.readIntoNativeBuffer(IOUtil.java:223)\n",
      "\tat sun.nio.ch.IOUtil.read(IOUtil.java:192)\n",
      "\tat sun.nio.ch.SocketChannelImpl.read(SocketChannelImpl.java:378)\n",
      "\tat io.netty.buffer.PooledByteBuf.setBytes(PooledByteBuf.java:258)\n",
      "\tat io.netty.buffer.AbstractByteBuf.writeBytes(AbstractByteBuf.java:1132)\n",
      "\tat io.netty.channel.socket.nio.NioSocketChannel.doReadBytes(NioSocketChannel.java:350)\n",
      "\tat io.netty.channel.nio.AbstractNioByteChannel$NioByteUnsafe.read(AbstractNioByteChannel.java:151)\n",
      "\tat io.netty.channel.nio.NioEventLoop.processSelectedKey(NioEventLoop.java:722)\n",
      "\tat io.netty.channel.nio.NioEventLoop.processSelectedKeysOptimized(NioEventLoop.java:658)\n",
      "\tat io.netty.channel.nio.NioEventLoop.processSelectedKeys(NioEventLoop.java:584)\n",
      "\tat io.netty.channel.nio.NioEventLoop.run(NioEventLoop.java:496)\n",
      "\tat io.netty.util.concurrent.SingleThreadEventExecutor$4.run(SingleThreadEventExecutor.java:986)\n",
      "\tat io.netty.util.internal.ThreadExecutorMap$2.run(ThreadExecutorMap.java:74)\n",
      "\tat io.netty.util.concurrent.FastThreadLocalRunnable.run(FastThreadLocalRunnable.java:30)\n",
      "\tat java.lang.Thread.run(Thread.java:750)\n"
     ]
    }
   ],
   "source": [
    "df1 = weekday_df2.groupBy('PULocationID',\t'DOLocationID', 'is_workday','time_interval')\\\n",
    "    .agg(\n",
    "        avg(\"speed_mph\").alias(\"avg_speed_mph\"), \\\n",
    "        count(\"speed_mph\").alias(\"num\")\n",
    "    )\n"
   ]
  },
  {
   "cell_type": "code",
   "execution_count": 252,
   "metadata": {},
   "outputs": [
    {
     "data": {
      "text/html": [
       "<table border='1'>\n",
       "<tr><th>PULocationID</th><th>DOLocationID</th><th>is_workday</th><th>time_interval</th><th>avg_speed_mph</th><th>num</th></tr>\n",
       "<tr><td>237</td><td>236</td><td>0</td><td>2</td><td>3.6554591755530796</td><td>25132</td></tr>\n",
       "<tr><td>236</td><td>237</td><td>0</td><td>2</td><td>3.3820042867766062</td><td>22861</td></tr>\n",
       "<tr><td>236</td><td>236</td><td>0</td><td>2</td><td>1.3649904345449577</td><td>21954</td></tr>\n",
       "<tr><td>237</td><td>237</td><td>0</td><td>2</td><td>3.4325349774721365</td><td>21085</td></tr>\n",
       "<tr><td>237</td><td>236</td><td>0</td><td>3</td><td>4.563869334809776</td><td>12643</td></tr>\n",
       "<tr><td>264</td><td>264</td><td>0</td><td>2</td><td>10.080058698842329</td><td>12266</td></tr>\n",
       "<tr><td>186</td><td>230</td><td>0</td><td>2</td><td>2.333851641818348</td><td>10933</td></tr>\n",
       "<tr><td>239</td><td>142</td><td>0</td><td>2</td><td>2.388852883992223</td><td>10801</td></tr>\n",
       "<tr><td>237</td><td>237</td><td>0</td><td>3</td><td>1.3371488033298646</td><td>10571</td></tr>\n",
       "<tr><td>236</td><td>237</td><td>0</td><td>3</td><td>3.4322326742177003</td><td>10418</td></tr>\n",
       "<tr><td>239</td><td>238</td><td>0</td><td>2</td><td>2.491462941404734</td><td>10308</td></tr>\n",
       "<tr><td>236</td><td>236</td><td>0</td><td>3</td><td>2.837704594754486</td><td>10142</td></tr>\n",
       "<tr><td>237</td><td>161</td><td>0</td><td>2</td><td>2.0858889349357645</td><td>9652</td></tr>\n",
       "<tr><td>264</td><td>264</td><td>0</td><td>4</td><td>18.345858330702033</td><td>9501</td></tr>\n",
       "<tr><td>161</td><td>237</td><td>0</td><td>2</td><td>2.644843997884717</td><td>9455</td></tr>\n",
       "<tr><td>238</td><td>239</td><td>0</td><td>2</td><td>1.8404860104782075</td><td>8971</td></tr>\n",
       "<tr><td>237</td><td>162</td><td>0</td><td>2</td><td>2.166145949564829</td><td>8962</td></tr>\n",
       "<tr><td>142</td><td>239</td><td>0</td><td>2</td><td>3.375557642639117</td><td>8518</td></tr>\n",
       "<tr><td>141</td><td>237</td><td>0</td><td>2</td><td>1.0871498978242577</td><td>8319</td></tr>\n",
       "<tr><td>141</td><td>236</td><td>0</td><td>2</td><td>4.218429622482209</td><td>8291</td></tr>\n",
       "</table>\n",
       "only showing top 20 rows\n"
      ],
      "text/plain": [
       "+------------+------------+----------+-------------+------------------+-----+\n",
       "|PULocationID|DOLocationID|is_workday|time_interval|     avg_speed_mph|  num|\n",
       "+------------+------------+----------+-------------+------------------+-----+\n",
       "|         237|         236|         0|            2|3.6554591755530796|25132|\n",
       "|         236|         237|         0|            2|3.3820042867766062|22861|\n",
       "|         236|         236|         0|            2|1.3649904345449577|21954|\n",
       "|         237|         237|         0|            2|3.4325349774721365|21085|\n",
       "|         237|         236|         0|            3| 4.563869334809776|12643|\n",
       "|         264|         264|         0|            2|10.080058698842329|12266|\n",
       "|         186|         230|         0|            2| 2.333851641818348|10933|\n",
       "|         239|         142|         0|            2| 2.388852883992223|10801|\n",
       "|         237|         237|         0|            3|1.3371488033298646|10571|\n",
       "|         236|         237|         0|            3|3.4322326742177003|10418|\n",
       "|         239|         238|         0|            2| 2.491462941404734|10308|\n",
       "|         236|         236|         0|            3| 2.837704594754486|10142|\n",
       "|         237|         161|         0|            2|2.0858889349357645| 9652|\n",
       "|         264|         264|         0|            4|18.345858330702033| 9501|\n",
       "|         161|         237|         0|            2| 2.644843997884717| 9455|\n",
       "|         238|         239|         0|            2|1.8404860104782075| 8971|\n",
       "|         237|         162|         0|            2| 2.166145949564829| 8962|\n",
       "|         142|         239|         0|            2| 3.375557642639117| 8518|\n",
       "|         141|         237|         0|            2|1.0871498978242577| 8319|\n",
       "|         141|         236|         0|            2| 4.218429622482209| 8291|\n",
       "+------------+------------+----------+-------------+------------------+-----+\n",
       "only showing top 20 rows"
      ]
     },
     "execution_count": 252,
     "metadata": {},
     "output_type": "execute_result"
    }
   ],
   "source": [
    "df1.sort(col(\"num\").desc())\n",
    "# df1.groupBy().sum(\"num\") 求和验证发现是对的"
   ]
  },
  {
   "cell_type": "code",
   "execution_count": null,
   "metadata": {},
   "outputs": [],
   "source": []
  },
  {
   "cell_type": "code",
   "execution_count": null,
   "metadata": {},
   "outputs": [],
   "source": []
  },
  {
   "cell_type": "code",
   "execution_count": 246,
   "metadata": {},
   "outputs": [],
   "source": [
    "workday = weekday_df2[weekday_df2[\"pickup_weekday\"] < 6]\n",
    "weekend = weekday_df2[weekday_df2[\"pickup_weekday\"] > 5]\n",
    "workday.groupBy('time_interval').count()\n",
    "\n",
    "weekend.groupBy('time_interval').count()\n",
    "workday\n",
    "lct_titvl_count = workday.groupBy(\"PULocationID\",\"DOLocationID\",\"time_interval\").count().sort(col('count').desc())\n",
    "zones.count()"
   ]
  },
  {
   "cell_type": "markdown",
   "metadata": {},
   "source": [
    "#### 于zones中的数据进行连接"
   ]
  },
  {
   "cell_type": "code",
   "execution_count": 215,
   "metadata": {},
   "outputs": [
    {
     "name": "stderr",
     "output_type": "stream",
     "text": [
      "                                                                                \r"
     ]
    },
    {
     "data": {
      "text/html": [
       "<table border='1'>\n",
       "<tr><th>PULocationID</th><th>DOLocationID</th><th>time_interval</th><th>count</th><th>start.Borough</th><th>start.Zone</th><th>start.service_zone</th><th>end.Borough</th><th>end.Zone</th><th>end.service_zone</th></tr>\n",
       "<tr><td>237</td><td>236</td><td>2</td><td>18881</td><td>Manhattan</td><td>Upper East Side S...</td><td>Yellow Zone</td><td>Manhattan</td><td>Upper East Side N...</td><td>Yellow Zone</td></tr>\n",
       "<tr><td>236</td><td>237</td><td>2</td><td>17331</td><td>Manhattan</td><td>Upper East Side N...</td><td>Yellow Zone</td><td>Manhattan</td><td>Upper East Side S...</td><td>Yellow Zone</td></tr>\n",
       "<tr><td>236</td><td>236</td><td>2</td><td>17093</td><td>Manhattan</td><td>Upper East Side N...</td><td>Yellow Zone</td><td>Manhattan</td><td>Upper East Side N...</td><td>Yellow Zone</td></tr>\n",
       "<tr><td>237</td><td>237</td><td>2</td><td>16165</td><td>Manhattan</td><td>Upper East Side S...</td><td>Yellow Zone</td><td>Manhattan</td><td>Upper East Side S...</td><td>Yellow Zone</td></tr>\n",
       "<tr><td>237</td><td>236</td><td>3</td><td>9957</td><td>Manhattan</td><td>Upper East Side S...</td><td>Yellow Zone</td><td>Manhattan</td><td>Upper East Side N...</td><td>Yellow Zone</td></tr>\n",
       "<tr><td>264</td><td>264</td><td>2</td><td>8454</td><td>Unknown</td><td>NV</td><td>N/A</td><td>Unknown</td><td>NV</td><td>N/A</td></tr>\n",
       "<tr><td>237</td><td>237</td><td>3</td><td>8345</td><td>Manhattan</td><td>Upper East Side S...</td><td>Yellow Zone</td><td>Manhattan</td><td>Upper East Side S...</td><td>Yellow Zone</td></tr>\n",
       "<tr><td>236</td><td>237</td><td>3</td><td>8007</td><td>Manhattan</td><td>Upper East Side N...</td><td>Yellow Zone</td><td>Manhattan</td><td>Upper East Side S...</td><td>Yellow Zone</td></tr>\n",
       "<tr><td>236</td><td>236</td><td>3</td><td>7915</td><td>Manhattan</td><td>Upper East Side N...</td><td>Yellow Zone</td><td>Manhattan</td><td>Upper East Side N...</td><td>Yellow Zone</td></tr>\n",
       "<tr><td>237</td><td>161</td><td>2</td><td>7407</td><td>Manhattan</td><td>Upper East Side S...</td><td>Yellow Zone</td><td>Manhattan</td><td>Midtown Center</td><td>Yellow Zone</td></tr>\n",
       "<tr><td>161</td><td>237</td><td>2</td><td>7351</td><td>Manhattan</td><td>Midtown Center</td><td>Yellow Zone</td><td>Manhattan</td><td>Upper East Side S...</td><td>Yellow Zone</td></tr>\n",
       "<tr><td>186</td><td>230</td><td>2</td><td>7336</td><td>Manhattan</td><td>Penn Station/Madi...</td><td>Yellow Zone</td><td>Manhattan</td><td>Times Sq/Theatre ...</td><td>Yellow Zone</td></tr>\n",
       "<tr><td>239</td><td>238</td><td>2</td><td>7221</td><td>Manhattan</td><td>Upper West Side S...</td><td>Yellow Zone</td><td>Manhattan</td><td>Upper West Side N...</td><td>Yellow Zone</td></tr>\n",
       "<tr><td>237</td><td>162</td><td>2</td><td>7114</td><td>Manhattan</td><td>Upper East Side S...</td><td>Yellow Zone</td><td>Manhattan</td><td>Midtown East</td><td>Yellow Zone</td></tr>\n",
       "<tr><td>239</td><td>142</td><td>2</td><td>7069</td><td>Manhattan</td><td>Upper West Side S...</td><td>Yellow Zone</td><td>Manhattan</td><td>Lincoln Square East</td><td>Yellow Zone</td></tr>\n",
       "<tr><td>238</td><td>239</td><td>2</td><td>6369</td><td>Manhattan</td><td>Upper West Side N...</td><td>Yellow Zone</td><td>Manhattan</td><td>Upper West Side S...</td><td>Yellow Zone</td></tr>\n",
       "<tr><td>264</td><td>264</td><td>4</td><td>6247</td><td>Unknown</td><td>NV</td><td>N/A</td><td>Unknown</td><td>NV</td><td>N/A</td></tr>\n",
       "<tr><td>141</td><td>237</td><td>2</td><td>6114</td><td>Manhattan</td><td>Lenox Hill West</td><td>Yellow Zone</td><td>Manhattan</td><td>Upper East Side S...</td><td>Yellow Zone</td></tr>\n",
       "<tr><td>141</td><td>236</td><td>2</td><td>6017</td><td>Manhattan</td><td>Lenox Hill West</td><td>Yellow Zone</td><td>Manhattan</td><td>Upper East Side N...</td><td>Yellow Zone</td></tr>\n",
       "<tr><td>239</td><td>239</td><td>2</td><td>5926</td><td>Manhattan</td><td>Upper West Side S...</td><td>Yellow Zone</td><td>Manhattan</td><td>Upper West Side S...</td><td>Yellow Zone</td></tr>\n",
       "</table>\n",
       "only showing top 20 rows\n"
      ],
      "text/plain": [
       "+------------+------------+-------------+-----+-------------+--------------------+------------------+-----------+--------------------+----------------+\n",
       "|PULocationID|DOLocationID|time_interval|count|start.Borough|          start.Zone|start.service_zone|end.Borough|            end.Zone|end.service_zone|\n",
       "+------------+------------+-------------+-----+-------------+--------------------+------------------+-----------+--------------------+----------------+\n",
       "|         237|         236|            2|18881|    Manhattan|Upper East Side S...|       Yellow Zone|  Manhattan|Upper East Side N...|     Yellow Zone|\n",
       "|         236|         237|            2|17331|    Manhattan|Upper East Side N...|       Yellow Zone|  Manhattan|Upper East Side S...|     Yellow Zone|\n",
       "|         236|         236|            2|17093|    Manhattan|Upper East Side N...|       Yellow Zone|  Manhattan|Upper East Side N...|     Yellow Zone|\n",
       "|         237|         237|            2|16165|    Manhattan|Upper East Side S...|       Yellow Zone|  Manhattan|Upper East Side S...|     Yellow Zone|\n",
       "|         237|         236|            3| 9957|    Manhattan|Upper East Side S...|       Yellow Zone|  Manhattan|Upper East Side N...|     Yellow Zone|\n",
       "|         264|         264|            2| 8454|      Unknown|                  NV|               N/A|    Unknown|                  NV|             N/A|\n",
       "|         237|         237|            3| 8345|    Manhattan|Upper East Side S...|       Yellow Zone|  Manhattan|Upper East Side S...|     Yellow Zone|\n",
       "|         236|         237|            3| 8007|    Manhattan|Upper East Side N...|       Yellow Zone|  Manhattan|Upper East Side S...|     Yellow Zone|\n",
       "|         236|         236|            3| 7915|    Manhattan|Upper East Side N...|       Yellow Zone|  Manhattan|Upper East Side N...|     Yellow Zone|\n",
       "|         237|         161|            2| 7407|    Manhattan|Upper East Side S...|       Yellow Zone|  Manhattan|      Midtown Center|     Yellow Zone|\n",
       "|         161|         237|            2| 7351|    Manhattan|      Midtown Center|       Yellow Zone|  Manhattan|Upper East Side S...|     Yellow Zone|\n",
       "|         186|         230|            2| 7336|    Manhattan|Penn Station/Madi...|       Yellow Zone|  Manhattan|Times Sq/Theatre ...|     Yellow Zone|\n",
       "|         239|         238|            2| 7221|    Manhattan|Upper West Side S...|       Yellow Zone|  Manhattan|Upper West Side N...|     Yellow Zone|\n",
       "|         237|         162|            2| 7114|    Manhattan|Upper East Side S...|       Yellow Zone|  Manhattan|        Midtown East|     Yellow Zone|\n",
       "|         239|         142|            2| 7069|    Manhattan|Upper West Side S...|       Yellow Zone|  Manhattan| Lincoln Square East|     Yellow Zone|\n",
       "|         238|         239|            2| 6369|    Manhattan|Upper West Side N...|       Yellow Zone|  Manhattan|Upper West Side S...|     Yellow Zone|\n",
       "|         264|         264|            4| 6247|      Unknown|                  NV|               N/A|    Unknown|                  NV|             N/A|\n",
       "|         141|         237|            2| 6114|    Manhattan|     Lenox Hill West|       Yellow Zone|  Manhattan|Upper East Side S...|     Yellow Zone|\n",
       "|         141|         236|            2| 6017|    Manhattan|     Lenox Hill West|       Yellow Zone|  Manhattan|Upper East Side N...|     Yellow Zone|\n",
       "|         239|         239|            2| 5926|    Manhattan|Upper West Side S...|       Yellow Zone|  Manhattan|Upper West Side S...|     Yellow Zone|\n",
       "+------------+------------+-------------+-----+-------------+--------------------+------------------+-----------+--------------------+----------------+\n",
       "only showing top 20 rows"
      ]
     },
     "execution_count": 215,
     "metadata": {},
     "output_type": "execute_result"
    }
   ],
   "source": [
    "lct_zones = lct_titvl_count.alias(\"index\").join(zones.alias(\"zones_start\"),\\\n",
    "    col(\"index.PULocationID\") == col(\"zones_start.LocationID\"))\\\n",
    "    .join(zones.alias(\"zones_end\"),\\\n",
    "    col(\"index.DOLocationID\") == col(\"zones_end.LocationID\"))\\\n",
    "    .select(col(\"index.PULocationID\").alias(\"PULocationID\"),\\\n",
    "    col(\"index.DOLocationID\").alias(\"DOLocationID\"),\\\n",
    "    col(\"time_interval\"),\\\n",
    "    col(\"count\"),\\\n",
    "    col(\"zones_start.Borough\").alias(\"start.Borough\"),\\\n",
    "    col(\"zones_start.Zone\").alias(\"start.Zone\"),\\\n",
    "    col(\"zones_start.service_zone\").alias(\"start.service_zone\"),\\\n",
    "    col(\"zones_end.Borough\").alias(\"end.Borough\"),\\\n",
    "    col(\"zones_end.Zone\").alias(\"end.Zone\"),\\\n",
    "    col(\"zones_end.service_zone\").alias(\"end.service_zone\")\n",
    "    ).sort(col('count').desc())\n",
    "\n",
    "# 后面的是终点\n",
    "lct_zones"
   ]
  },
  {
   "cell_type": "code",
   "execution_count": 217,
   "metadata": {},
   "outputs": [
    {
     "name": "stderr",
     "output_type": "stream",
     "text": [
      "                                                                                \r"
     ]
    },
    {
     "data": {
      "text/html": [
       "<table border='1'>\n",
       "<tr><th>PULocationID</th><th>DOLocationID</th><th>time_interval</th><th>count</th><th>start.Borough</th><th>start.Zone</th><th>start.service_zone</th><th>end.Borough</th><th>end.Zone</th><th>end.service_zone</th></tr>\n",
       "<tr><td>237</td><td>236</td><td>2</td><td>18881</td><td>Manhattan</td><td>Upper East Side S...</td><td>Yellow Zone</td><td>Manhattan</td><td>Upper East Side N...</td><td>Yellow Zone</td></tr>\n",
       "<tr><td>236</td><td>237</td><td>2</td><td>17331</td><td>Manhattan</td><td>Upper East Side N...</td><td>Yellow Zone</td><td>Manhattan</td><td>Upper East Side S...</td><td>Yellow Zone</td></tr>\n",
       "<tr><td>236</td><td>236</td><td>2</td><td>17093</td><td>Manhattan</td><td>Upper East Side N...</td><td>Yellow Zone</td><td>Manhattan</td><td>Upper East Side N...</td><td>Yellow Zone</td></tr>\n",
       "<tr><td>237</td><td>237</td><td>2</td><td>16165</td><td>Manhattan</td><td>Upper East Side S...</td><td>Yellow Zone</td><td>Manhattan</td><td>Upper East Side S...</td><td>Yellow Zone</td></tr>\n",
       "<tr><td>237</td><td>236</td><td>3</td><td>9957</td><td>Manhattan</td><td>Upper East Side S...</td><td>Yellow Zone</td><td>Manhattan</td><td>Upper East Side N...</td><td>Yellow Zone</td></tr>\n",
       "<tr><td>264</td><td>264</td><td>2</td><td>8454</td><td>Unknown</td><td>NV</td><td>N/A</td><td>Unknown</td><td>NV</td><td>N/A</td></tr>\n",
       "<tr><td>237</td><td>237</td><td>3</td><td>8345</td><td>Manhattan</td><td>Upper East Side S...</td><td>Yellow Zone</td><td>Manhattan</td><td>Upper East Side S...</td><td>Yellow Zone</td></tr>\n",
       "<tr><td>236</td><td>237</td><td>3</td><td>8007</td><td>Manhattan</td><td>Upper East Side N...</td><td>Yellow Zone</td><td>Manhattan</td><td>Upper East Side S...</td><td>Yellow Zone</td></tr>\n",
       "<tr><td>236</td><td>236</td><td>3</td><td>7915</td><td>Manhattan</td><td>Upper East Side N...</td><td>Yellow Zone</td><td>Manhattan</td><td>Upper East Side N...</td><td>Yellow Zone</td></tr>\n",
       "<tr><td>237</td><td>161</td><td>2</td><td>7407</td><td>Manhattan</td><td>Upper East Side S...</td><td>Yellow Zone</td><td>Manhattan</td><td>Midtown Center</td><td>Yellow Zone</td></tr>\n",
       "<tr><td>161</td><td>237</td><td>2</td><td>7351</td><td>Manhattan</td><td>Midtown Center</td><td>Yellow Zone</td><td>Manhattan</td><td>Upper East Side S...</td><td>Yellow Zone</td></tr>\n",
       "<tr><td>186</td><td>230</td><td>2</td><td>7336</td><td>Manhattan</td><td>Penn Station/Madi...</td><td>Yellow Zone</td><td>Manhattan</td><td>Times Sq/Theatre ...</td><td>Yellow Zone</td></tr>\n",
       "<tr><td>239</td><td>238</td><td>2</td><td>7221</td><td>Manhattan</td><td>Upper West Side S...</td><td>Yellow Zone</td><td>Manhattan</td><td>Upper West Side N...</td><td>Yellow Zone</td></tr>\n",
       "<tr><td>237</td><td>162</td><td>2</td><td>7114</td><td>Manhattan</td><td>Upper East Side S...</td><td>Yellow Zone</td><td>Manhattan</td><td>Midtown East</td><td>Yellow Zone</td></tr>\n",
       "<tr><td>239</td><td>142</td><td>2</td><td>7069</td><td>Manhattan</td><td>Upper West Side S...</td><td>Yellow Zone</td><td>Manhattan</td><td>Lincoln Square East</td><td>Yellow Zone</td></tr>\n",
       "<tr><td>238</td><td>239</td><td>2</td><td>6369</td><td>Manhattan</td><td>Upper West Side N...</td><td>Yellow Zone</td><td>Manhattan</td><td>Upper West Side S...</td><td>Yellow Zone</td></tr>\n",
       "<tr><td>264</td><td>264</td><td>4</td><td>6247</td><td>Unknown</td><td>NV</td><td>N/A</td><td>Unknown</td><td>NV</td><td>N/A</td></tr>\n",
       "<tr><td>141</td><td>237</td><td>2</td><td>6114</td><td>Manhattan</td><td>Lenox Hill West</td><td>Yellow Zone</td><td>Manhattan</td><td>Upper East Side S...</td><td>Yellow Zone</td></tr>\n",
       "<tr><td>141</td><td>236</td><td>2</td><td>6017</td><td>Manhattan</td><td>Lenox Hill West</td><td>Yellow Zone</td><td>Manhattan</td><td>Upper East Side N...</td><td>Yellow Zone</td></tr>\n",
       "<tr><td>239</td><td>239</td><td>2</td><td>5926</td><td>Manhattan</td><td>Upper West Side S...</td><td>Yellow Zone</td><td>Manhattan</td><td>Upper West Side S...</td><td>Yellow Zone</td></tr>\n",
       "</table>\n",
       "only showing top 20 rows\n"
      ],
      "text/plain": [
       "DataFrame[PULocationID: string, DOLocationID: string, time_interval: bigint, count: bigint, start.Borough: string, start.Zone: string, start.service_zone: string, end.Borough: string, end.Zone: string, end.service_zone: string]"
      ]
     },
     "execution_count": 217,
     "metadata": {},
     "output_type": "execute_result"
    }
   ],
   "source": [
    "lct_zones"
   ]
  },
  {
   "cell_type": "markdown",
   "metadata": {},
   "source": [
    "### 存一些关键数据\n",
    "- `lct_zones`\n",
    "- `weekday_df2`\n",
    "- `dis4_avg`"
   ]
  },
  {
   "cell_type": "code",
   "execution_count": 228,
   "metadata": {},
   "outputs": [
    {
     "ename": "RuntimeError",
     "evalue": "It appears that you are attempting to reference SparkContext from a broadcast variable, action, or transformation. SparkContext can only be used on the driver, not in code that it run on workers. For more information, see SPARK-5063.",
     "output_type": "error",
     "traceback": [
      "\u001b[0;31m---------------------------------------------------------------------------\u001b[0m",
      "\u001b[0;31mRuntimeError\u001b[0m                              Traceback (most recent call last)",
      "\u001b[1;32m/Users/xunyijiang/Documents/StudyMaterials/2022Fall/DPC/Assign3_spark/assign3spark.ipynb Cell 45\u001b[0m in \u001b[0;36m<cell line: 7>\u001b[0;34m()\u001b[0m\n\u001b[1;32m      <a href='vscode-notebook-cell:/Users/xunyijiang/Documents/StudyMaterials/2022Fall/DPC/Assign3_spark/assign3spark.ipynb#Y120sZmlsZQ%3D%3D?line=5'>6</a>\u001b[0m \u001b[39m# 保存\u001b[39;00m\n\u001b[1;32m      <a href='vscode-notebook-cell:/Users/xunyijiang/Documents/StudyMaterials/2022Fall/DPC/Assign3_spark/assign3spark.ipynb#Y120sZmlsZQ%3D%3D?line=6'>7</a>\u001b[0m \u001b[39mwith\u001b[39;00m \u001b[39mopen\u001b[39m(\u001b[39m'\u001b[39m\u001b[39m./data/weekday_df2\u001b[39m\u001b[39m'\u001b[39m, \u001b[39m'\u001b[39m\u001b[39mwb\u001b[39m\u001b[39m'\u001b[39m) \u001b[39mas\u001b[39;00m f:\n\u001b[0;32m----> <a href='vscode-notebook-cell:/Users/xunyijiang/Documents/StudyMaterials/2022Fall/DPC/Assign3_spark/assign3spark.ipynb#Y120sZmlsZQ%3D%3D?line=7'>8</a>\u001b[0m     pickle\u001b[39m.\u001b[39;49mdump(weekday_df2, f)\n",
      "File \u001b[0;32m/opt/miniconda3/envs/myEnv/lib/python3.9/site-packages/pyspark/context.py:447\u001b[0m, in \u001b[0;36mSparkContext.__getnewargs__\u001b[0;34m(self)\u001b[0m\n\u001b[1;32m    445\u001b[0m \u001b[39mdef\u001b[39;00m \u001b[39m__getnewargs__\u001b[39m(\u001b[39mself\u001b[39m) \u001b[39m-\u001b[39m\u001b[39m>\u001b[39m NoReturn:\n\u001b[1;32m    446\u001b[0m     \u001b[39m# This method is called when attempting to pickle SparkContext, which is always an error:\u001b[39;00m\n\u001b[0;32m--> 447\u001b[0m     \u001b[39mraise\u001b[39;00m \u001b[39mRuntimeError\u001b[39;00m(\n\u001b[1;32m    448\u001b[0m         \u001b[39m\"\u001b[39m\u001b[39mIt appears that you are attempting to reference SparkContext from a broadcast \u001b[39m\u001b[39m\"\u001b[39m\n\u001b[1;32m    449\u001b[0m         \u001b[39m\"\u001b[39m\u001b[39mvariable, action, or transformation. SparkContext can only be used on the driver, \u001b[39m\u001b[39m\"\u001b[39m\n\u001b[1;32m    450\u001b[0m         \u001b[39m\"\u001b[39m\u001b[39mnot in code that it run on workers. For more information, see SPARK-5063.\u001b[39m\u001b[39m\"\u001b[39m\n\u001b[1;32m    451\u001b[0m     )\n",
      "\u001b[0;31mRuntimeError\u001b[0m: It appears that you are attempting to reference SparkContext from a broadcast variable, action, or transformation. SparkContext can only be used on the driver, not in code that it run on workers. For more information, see SPARK-5063."
     ]
    }
   ],
   "source": [
    "#lct_zones.toPandas().to_csv(\"./data/lct_zones.csv\")\n",
    "# weekday_df2.toPandas().to_csv(\"./data/weekday_df2.csv\")\n",
    "# dis4_avg.toPandas().to_csv(\"./data/dis4_avg.csv\")\n",
    "\n",
    "import pickle\n",
    "# 保存\n",
    "with open('./data/weekday_df2', 'wb') as f:\n",
    "    pickle.dump(weekday_df2, f)"
   ]
  },
  {
   "cell_type": "markdown",
   "metadata": {},
   "source": [
    "## 可视化"
   ]
  },
  {
   "cell_type": "markdown",
   "metadata": {},
   "source": [
    "# Bonus"
   ]
  },
  {
   "cell_type": "markdown",
   "metadata": {},
   "source": []
  }
 ],
 "metadata": {
  "kernelspec": {
   "display_name": "Python 3.9.12 ('myEnv')",
   "language": "python",
   "name": "python3"
  },
  "language_info": {
   "codemirror_mode": {
    "name": "ipython",
    "version": 3
   },
   "file_extension": ".py",
   "mimetype": "text/x-python",
   "name": "python",
   "nbconvert_exporter": "python",
   "pygments_lexer": "ipython3",
   "version": "3.9.12"
  },
  "orig_nbformat": 4,
  "vscode": {
   "interpreter": {
    "hash": "8d511ecf47e37874b67868b64cf799c0578a6f729d52bb04263c873a635bf916"
   }
  }
 },
 "nbformat": 4,
 "nbformat_minor": 2
}
